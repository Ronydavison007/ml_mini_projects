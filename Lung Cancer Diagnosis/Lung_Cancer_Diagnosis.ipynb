{
  "cells": [
    {
      "cell_type": "markdown",
      "metadata": {
        "id": "view-in-github",
        "colab_type": "text"
      },
      "source": [
        "<a href=\"https://colab.research.google.com/github/Ronydavison007/ml_mini_projects/blob/main/Lung%20Cancer%20Diagnosis/Lung_Cancer_Diagnosis.ipynb\" target=\"_parent\"><img src=\"https://colab.research.google.com/assets/colab-badge.svg\" alt=\"Open In Colab\"/></a>"
      ]
    },
    {
      "cell_type": "code",
      "source": [
        "import pandas as pd\n",
        "from sklearn.model_selection import train_test_split\n",
        "from sklearn.svm import SVC\n",
        "from sklearn.naive_bayes import GaussianNB\n",
        "from sklearn.metrics import accuracy_score, precision_score, recall_score, f1_score\n",
        "from sklearn.preprocessing import LabelEncoder\n",
        "from sklearn.tree import DecisionTreeClassifier\n",
        "from sklearn.linear_model import LogisticRegression\n",
        "from sklearn.ensemble import RandomForestClassifier\n",
        "from sklearn.model_selection import GridSearchCV"
      ],
      "metadata": {
        "id": "2-GUUtvv8Tz7"
      },
      "execution_count": 1,
      "outputs": []
    },
    {
      "cell_type": "code",
      "source": [
        "from google.colab import drive\n",
        "drive.mount('/content/drive')"
      ],
      "metadata": {
        "colab": {
          "base_uri": "https://localhost:8080/"
        },
        "id": "cMt_eRJO6LAu",
        "outputId": "51d030af-7164-4ab5-b08b-473a450ab2b8"
      },
      "execution_count": 2,
      "outputs": [
        {
          "output_type": "stream",
          "name": "stdout",
          "text": [
            "Mounted at /content/drive\n"
          ]
        }
      ]
    },
    {
      "cell_type": "code",
      "source": [
        "data_file = '/content/drive/My Drive/Colab Notebooks/Lung Cancer Diagnosis/dataset_med.csv'\n",
        "load_data = pd.read_csv(data_file)\n",
        "data = pd.DataFrame(load_data)"
      ],
      "metadata": {
        "id": "08-wWi-v7nuI"
      },
      "execution_count": 3,
      "outputs": []
    },
    {
      "cell_type": "code",
      "source": [
        "print(data.head())\n",
        "print(data.info())\n",
        "print(data.describe())"
      ],
      "metadata": {
        "colab": {
          "base_uri": "https://localhost:8080/"
        },
        "id": "vSXfa25uDVsO",
        "outputId": "167c9c36-2e0b-4ec3-b9c5-93ea0dcebae0"
      },
      "execution_count": 4,
      "outputs": [
        {
          "output_type": "stream",
          "name": "stdout",
          "text": [
            "   id   age  gender      country diagnosis_date cancer_stage family_history  \\\n",
            "0   1  64.0    Male       Sweden     2016-04-05      Stage I            Yes   \n",
            "1   2  50.0  Female  Netherlands     2023-04-20    Stage III            Yes   \n",
            "2   3  65.0  Female      Hungary     2023-04-05    Stage III            Yes   \n",
            "3   4  51.0  Female      Belgium     2016-02-05      Stage I             No   \n",
            "4   5  37.0    Male   Luxembourg     2023-11-29      Stage I             No   \n",
            "\n",
            "   smoking_status   bmi  cholesterol_level  hypertension  asthma  cirrhosis  \\\n",
            "0  Passive Smoker  29.4                199             0       0          1   \n",
            "1  Passive Smoker  41.2                280             1       1          0   \n",
            "2   Former Smoker  44.0                268             1       1          0   \n",
            "3  Passive Smoker  43.0                241             1       1          0   \n",
            "4  Passive Smoker  19.7                178             0       0          0   \n",
            "\n",
            "   other_cancer treatment_type end_treatment_date  survived  \n",
            "0             0   Chemotherapy         2017-09-10         0  \n",
            "1             0        Surgery         2024-06-17         1  \n",
            "2             0       Combined         2024-04-09         0  \n",
            "3             0   Chemotherapy         2017-04-23         0  \n",
            "4             0       Combined         2025-01-08         0  \n",
            "<class 'pandas.core.frame.DataFrame'>\n",
            "RangeIndex: 890000 entries, 0 to 889999\n",
            "Data columns (total 17 columns):\n",
            " #   Column              Non-Null Count   Dtype  \n",
            "---  ------              --------------   -----  \n",
            " 0   id                  890000 non-null  int64  \n",
            " 1   age                 890000 non-null  float64\n",
            " 2   gender              890000 non-null  object \n",
            " 3   country             890000 non-null  object \n",
            " 4   diagnosis_date      890000 non-null  object \n",
            " 5   cancer_stage        890000 non-null  object \n",
            " 6   family_history      890000 non-null  object \n",
            " 7   smoking_status      890000 non-null  object \n",
            " 8   bmi                 890000 non-null  float64\n",
            " 9   cholesterol_level   890000 non-null  int64  \n",
            " 10  hypertension        890000 non-null  int64  \n",
            " 11  asthma              890000 non-null  int64  \n",
            " 12  cirrhosis           890000 non-null  int64  \n",
            " 13  other_cancer        890000 non-null  int64  \n",
            " 14  treatment_type      890000 non-null  object \n",
            " 15  end_treatment_date  890000 non-null  object \n",
            " 16  survived            890000 non-null  int64  \n",
            "dtypes: float64(2), int64(7), object(8)\n",
            "memory usage: 115.4+ MB\n",
            "None\n",
            "                  id            age            bmi  cholesterol_level  \\\n",
            "count  890000.000000  890000.000000  890000.000000      890000.000000   \n",
            "mean   445000.500000      55.007008      30.494172         233.633916   \n",
            "std    256921.014128       9.994485       8.368539          43.432278   \n",
            "min         1.000000       4.000000      16.000000         150.000000   \n",
            "25%    222500.750000      48.000000      23.300000         196.000000   \n",
            "50%    445000.500000      55.000000      30.500000         242.000000   \n",
            "75%    667500.250000      62.000000      37.700000         271.000000   \n",
            "max    890000.000000     104.000000      45.000000         300.000000   \n",
            "\n",
            "        hypertension         asthma      cirrhosis   other_cancer  \\\n",
            "count  890000.000000  890000.000000  890000.000000  890000.000000   \n",
            "mean        0.750024       0.469740       0.225956       0.088157   \n",
            "std         0.432999       0.499084       0.418211       0.283524   \n",
            "min         0.000000       0.000000       0.000000       0.000000   \n",
            "25%         1.000000       0.000000       0.000000       0.000000   \n",
            "50%         1.000000       0.000000       0.000000       0.000000   \n",
            "75%         1.000000       1.000000       0.000000       0.000000   \n",
            "max         1.000000       1.000000       1.000000       1.000000   \n",
            "\n",
            "            survived  \n",
            "count  890000.000000  \n",
            "mean        0.220229  \n",
            "std         0.414401  \n",
            "min         0.000000  \n",
            "25%         0.000000  \n",
            "50%         0.000000  \n",
            "75%         0.000000  \n",
            "max         1.000000  \n"
          ]
        }
      ]
    },
    {
      "cell_type": "code",
      "source": [
        "# Check for missing values\n",
        "print(data.isnull().sum())\n",
        "\n",
        "# Fill missing values in continuous columns like 'bmi', 'cholesterol_level'\n",
        "data['bmi'] = data['bmi'].fillna(data['bmi'].median())\n",
        "data['cholesterol_level'] = data['cholesterol_level'].fillna(data['cholesterol_level'].median())\n",
        "\n",
        "# For categorical columns, you can use mode or a separate category like 'unknown'\n",
        "data['smoking_status'] = data['smoking_status'].fillna('unknown')\n"
      ],
      "metadata": {
        "colab": {
          "base_uri": "https://localhost:8080/"
        },
        "id": "_t2t86BSexzr",
        "outputId": "ec62a37d-5074-4eeb-ab8c-585658cdbd80"
      },
      "execution_count": 5,
      "outputs": [
        {
          "output_type": "stream",
          "name": "stdout",
          "text": [
            "id                    0\n",
            "age                   0\n",
            "gender                0\n",
            "country               0\n",
            "diagnosis_date        0\n",
            "cancer_stage          0\n",
            "family_history        0\n",
            "smoking_status        0\n",
            "bmi                   0\n",
            "cholesterol_level     0\n",
            "hypertension          0\n",
            "asthma                0\n",
            "cirrhosis             0\n",
            "other_cancer          0\n",
            "treatment_type        0\n",
            "end_treatment_date    0\n",
            "survived              0\n",
            "dtype: int64\n"
          ]
        }
      ]
    },
    {
      "cell_type": "code",
      "source": [
        "data['diagnosis_date'] = pd.to_datetime(data['diagnosis_date'])\n",
        "data['end_treatment_date'] = pd.to_datetime(data['end_treatment_date'])\n",
        "\n",
        "# Calculate treatment duration in days\n",
        "data['treatment_duration'] = (data['end_treatment_date'] - data['diagnosis_date']).dt.days\n"
      ],
      "metadata": {
        "id": "DLfwBxhcfLTV"
      },
      "execution_count": 6,
      "outputs": []
    },
    {
      "cell_type": "code",
      "source": [
        "# One-hot encode categorical variables\n",
        "data = pd.get_dummies(data, columns=['gender', 'smoking_status', 'cancer_stage', 'treatment_type', 'family_history', 'hypertension', 'asthma', 'cirrhosis', 'other_cancer'], drop_first=True)\n",
        "data = data.drop(columns=['id', 'diagnosis_date', 'end_treatment_date', 'country'])\n"
      ],
      "metadata": {
        "id": "tOjWYJqyjs-1"
      },
      "execution_count": 7,
      "outputs": []
    },
    {
      "cell_type": "code",
      "source": [
        "x = data.drop(columns='survived')\n",
        "y = data['survived']\n",
        "print(x)\n",
        "print(y)\n"
      ],
      "metadata": {
        "colab": {
          "base_uri": "https://localhost:8080/"
        },
        "id": "YU7eIGB9DnQn",
        "outputId": "25a71ab1-93bb-46e5-eecc-08c8a2b6e7c7"
      },
      "execution_count": 8,
      "outputs": [
        {
          "output_type": "stream",
          "name": "stdout",
          "text": [
            "         age   bmi  cholesterol_level  treatment_duration  gender_Male  \\\n",
            "0       64.0  29.4                199                 523         True   \n",
            "1       50.0  41.2                280                 424        False   \n",
            "2       65.0  44.0                268                 370        False   \n",
            "3       51.0  43.0                241                 443        False   \n",
            "4       37.0  19.7                178                 406         True   \n",
            "...      ...   ...                ...                 ...          ...   \n",
            "889995  40.0  44.8                243                 237         True   \n",
            "889996  62.0  21.6                240                 631        False   \n",
            "889997  48.0  38.6                242                 302        False   \n",
            "889998  67.0  18.6                194                 721        False   \n",
            "889999  55.0  42.8                250                 450        False   \n",
            "\n",
            "        smoking_status_Former Smoker  smoking_status_Never Smoked  \\\n",
            "0                              False                        False   \n",
            "1                              False                        False   \n",
            "2                               True                        False   \n",
            "3                              False                        False   \n",
            "4                              False                        False   \n",
            "...                              ...                          ...   \n",
            "889995                         False                        False   \n",
            "889996                          True                        False   \n",
            "889997                         False                         True   \n",
            "889998                          True                        False   \n",
            "889999                         False                        False   \n",
            "\n",
            "        smoking_status_Passive Smoker  cancer_stage_Stage II  \\\n",
            "0                                True                  False   \n",
            "1                                True                  False   \n",
            "2                               False                  False   \n",
            "3                                True                  False   \n",
            "4                                True                  False   \n",
            "...                               ...                    ...   \n",
            "889995                           True                  False   \n",
            "889996                          False                   True   \n",
            "889997                          False                  False   \n",
            "889998                          False                  False   \n",
            "889999                          False                   True   \n",
            "\n",
            "        cancer_stage_Stage III  cancer_stage_Stage IV  \\\n",
            "0                        False                  False   \n",
            "1                         True                  False   \n",
            "2                         True                  False   \n",
            "3                        False                  False   \n",
            "4                        False                  False   \n",
            "...                        ...                    ...   \n",
            "889995                   False                   True   \n",
            "889996                   False                  False   \n",
            "889997                    True                  False   \n",
            "889998                   False                   True   \n",
            "889999                   False                  False   \n",
            "\n",
            "        treatment_type_Combined  treatment_type_Radiation  \\\n",
            "0                         False                     False   \n",
            "1                         False                     False   \n",
            "2                          True                     False   \n",
            "3                         False                     False   \n",
            "4                          True                     False   \n",
            "...                         ...                       ...   \n",
            "889995                    False                      True   \n",
            "889996                    False                     False   \n",
            "889997                     True                     False   \n",
            "889998                    False                     False   \n",
            "889999                     True                     False   \n",
            "\n",
            "        treatment_type_Surgery  family_history_Yes  hypertension_1  asthma_1  \\\n",
            "0                        False                True           False     False   \n",
            "1                         True                True            True      True   \n",
            "2                        False                True            True      True   \n",
            "3                        False               False            True      True   \n",
            "4                        False               False           False     False   \n",
            "...                        ...                 ...             ...       ...   \n",
            "889995                   False               False            True      True   \n",
            "889996                    True                True           False     False   \n",
            "889997                   False                True            True     False   \n",
            "889998                   False                True            True      True   \n",
            "889999                   False                True           False     False   \n",
            "\n",
            "        cirrhosis_1  other_cancer_1  \n",
            "0              True           False  \n",
            "1             False           False  \n",
            "2             False           False  \n",
            "3             False           False  \n",
            "4             False           False  \n",
            "...             ...             ...  \n",
            "889995         True           False  \n",
            "889996        False           False  \n",
            "889997        False           False  \n",
            "889998        False           False  \n",
            "889999        False           False  \n",
            "\n",
            "[890000 rows x 19 columns]\n",
            "0         0\n",
            "1         1\n",
            "2         0\n",
            "3         0\n",
            "4         0\n",
            "         ..\n",
            "889995    0\n",
            "889996    0\n",
            "889997    1\n",
            "889998    0\n",
            "889999    0\n",
            "Name: survived, Length: 890000, dtype: int64\n"
          ]
        }
      ]
    },
    {
      "cell_type": "code",
      "source": [
        "x_train, x_test, y_train, y_test = train_test_split(x, y, test_size=0.2, random_state=42)"
      ],
      "metadata": {
        "id": "QSy-_BJvGE24"
      },
      "execution_count": 9,
      "outputs": []
    },
    {
      "cell_type": "code",
      "source": [
        "dt = RandomForestClassifier()\n",
        "# train the model\n",
        "dt.fit(x_train, y_train)\n",
        "# make predictions\n",
        "dt_pred = dt.predict(x_test)"
      ],
      "metadata": {
        "id": "HhcfK-dkGmve"
      },
      "execution_count": 10,
      "outputs": []
    },
    {
      "cell_type": "code",
      "source": [
        "print(\"Accuracy of random forest classifier: \",\n",
        "      accuracy_score(y_test, dt_pred))\n",
        "# print other performance metrics\n",
        "print(\"Precision of random forest classifier: \",\n",
        "      precision_score(y_test, dt_pred, average='weighted'))\n",
        "print(\"Recall of random forest classifier: \",\n",
        "      recall_score(y_test, dt_pred, average='weighted'))\n",
        "print(\"F1-Score of random forest classifier: \",\n",
        "      f1_score(y_test, dt_pred, average='weighted'))"
      ],
      "metadata": {
        "colab": {
          "base_uri": "https://localhost:8080/"
        },
        "id": "EHdgZaPpXuMK",
        "outputId": "2814f5af-51bf-4bae-c718-300ba409c905"
      },
      "execution_count": 11,
      "outputs": [
        {
          "output_type": "stream",
          "name": "stdout",
          "text": [
            "Accuracy of random forest classifier:  0.7775393258426966\n",
            "Precision of random forest classifier:  0.6537422336833931\n",
            "Recall of random forest classifier:  0.7775393258426966\n",
            "F1-Score of random forest classifier:  0.6823186396437132\n"
          ]
        }
      ]
    }
  ],
  "metadata": {
    "colab": {
      "provenance": [],
      "include_colab_link": true
    },
    "kernelspec": {
      "display_name": "Python 3",
      "name": "python3"
    }
  },
  "nbformat": 4,
  "nbformat_minor": 0
}